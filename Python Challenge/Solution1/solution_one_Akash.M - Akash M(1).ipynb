{
 "cells": [
  {
   "cell_type": "markdown",
   "metadata": {},
   "source": [
    "# Program to find non-repeated element in a Python List"
   ]
  },
  {
   "cell_type": "markdown",
   "metadata": {},
   "source": [
    "### Initializing a List and a variable to store the result"
   ]
  },
  {
   "cell_type": "code",
   "execution_count": 1,
   "metadata": {},
   "outputs": [],
   "source": [
    "Mylist = [1,1,2,2,3,4,4,5,5] #List\n",
    "non_rep = 0 # Empty Variable"
   ]
  },
  {
   "cell_type": "code",
   "execution_count": 2,
   "metadata": {},
   "outputs": [],
   "source": [
    "def repeat(Mylist, non_rep): # A function is defined with the List and Empty variable as parameters\n",
    "    for i in Mylist: # For loop to store the element is list in the variable i\n",
    "        non_rep ^= i # Using XOR operation we find out the non repeating element in the list and store the result in a variable\n",
    "    return non_rep # return the result\n",
    "    "
   ]
  },
  {
   "cell_type": "markdown",
   "metadata": {},
   "source": [
    "## How XOR Operation Works\n",
    "\n",
    "##### if we XOR a number which is repeated twice, it is considered as 0 \n",
    "\n",
    "##### if we XOR a number with 0 , no changes will be made and will print the number itself\n",
    "\n",
    "##### Example: [1,1,2,2,3,4,4,5,5]\n",
    "####  here 1^1 is considered a 0 ( ^ is used for XOR operation)\n",
    "#### So it will be like 0^0^3^0^0 which will return 3 as the result since XOR of 3^0 is as 3"
   ]
  },
  {
   "cell_type": "code",
   "execution_count": 3,
   "metadata": {},
   "outputs": [
    {
     "data": {
      "text/plain": [
       "3"
      ]
     },
     "execution_count": 3,
     "metadata": {},
     "output_type": "execute_result"
    }
   ],
   "source": [
    "repeat(Mylist, non_rep) # execute the funtion"
   ]
  },
  {
   "cell_type": "code",
   "execution_count": null,
   "metadata": {},
   "outputs": [],
   "source": []
  }
 ],
 "metadata": {
  "kernelspec": {
   "display_name": "Python 3",
   "language": "python",
   "name": "python3"
  },
  "language_info": {
   "codemirror_mode": {
    "name": "ipython",
    "version": 3
   },
   "file_extension": ".py",
   "mimetype": "text/x-python",
   "name": "python",
   "nbconvert_exporter": "python",
   "pygments_lexer": "ipython3",
   "version": "3.6.8"
  }
 },
 "nbformat": 4,
 "nbformat_minor": 2
}
