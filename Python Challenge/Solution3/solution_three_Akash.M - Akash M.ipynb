{
 "cells": [
  {
   "cell_type": "markdown",
   "metadata": {},
   "source": [
    "# Python program to find the maximum occurring character in a given string"
   ]
  },
  {
   "cell_type": "code",
   "execution_count": 1,
   "metadata": {},
   "outputs": [],
   "source": [
    "#Using Collection Function\n",
    "#import collections \n",
    "#str = \"aaaaaaaaaaaaaaaaaabbbbcddddeeeeee\" \n",
    "#print (\"Max occurring character is \" + collections.Counter(str).most_common(1)[0][0])"
   ]
  },
  {
   "cell_type": "code",
   "execution_count": 2,
   "metadata": {},
   "outputs": [],
   "source": [
    "#Using User Defined Function\n",
    "def get_max_occuring_char(str):\n",
    "  ASCII_SIZE = 256\n",
    "  ch = [0] * ASCII_SIZE\n",
    "  max = -1\n",
    "  cnt = ''\n",
    "  for i in str:\n",
    "    ch[ord(i)]+=1;\n",
    " \n",
    "  for i in str:\n",
    "    if max < ch[ord(i)]:\n",
    "      max = ch[ord(i)]\n",
    "      cnt = i\n",
    "  return cnt"
   ]
  },
  {
   "cell_type": "code",
   "execution_count": 3,
   "metadata": {},
   "outputs": [
    {
     "name": "stdout",
     "output_type": "stream",
     "text": [
      "The Maximum Character Occurred in the given string is:  j\n"
     ]
    }
   ],
   "source": [
    "print(\"The Maximum Character Occurred in the given string is: \",get_max_occuring_char('jadjjkadch'))\n"
   ]
  },
  {
   "cell_type": "code",
   "execution_count": null,
   "metadata": {},
   "outputs": [],
   "source": []
  }
 ],
 "metadata": {
  "kernelspec": {
   "display_name": "Python 3",
   "language": "python",
   "name": "python3"
  },
  "language_info": {
   "codemirror_mode": {
    "name": "ipython",
    "version": 3
   },
   "file_extension": ".py",
   "mimetype": "text/x-python",
   "name": "python",
   "nbconvert_exporter": "python",
   "pygments_lexer": "ipython3",
   "version": "3.6.8"
  }
 },
 "nbformat": 4,
 "nbformat_minor": 2
}
